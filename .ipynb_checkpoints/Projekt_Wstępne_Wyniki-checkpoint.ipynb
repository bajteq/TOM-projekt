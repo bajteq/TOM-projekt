{
 "cells": [
  {
   "cell_type": "code",
   "execution_count": 1,
   "metadata": {},
   "outputs": [],
   "source": [
    "#wizualizacja\n",
    "import numpy as np\n",
    "import nibabel as nb\n",
    "import matplotlib.pyplot as plt\n",
    "#siec\n",
    "import tensorflow as tf\n",
    "import os"
   ]
  },
  {
   "cell_type": "markdown",
   "metadata": {},
   "source": [
    "# Wizualizacja danych"
   ]
  },
  {
   "cell_type": "code",
   "execution_count": null,
   "metadata": {},
   "outputs": [],
   "source": [
    "#zmiana katalogu na katalog z danymi\n",
    "%cd \"E:\\top projekt\\kits19\" "
   ]
  },
  {
   "cell_type": "code",
   "execution_count": null,
   "metadata": {},
   "outputs": [],
   "source": [
    "from starter_code.utils import load_case\n",
    "#wczytywanie danych do trenowania(narazie tylko 5 pacjentów)\n",
    "volume0, segmentation0 = load_case(\"case_00000\")\n",
    "volume0 = volume0.get_fdata() #metoda do wyciągania tablicy danych - u nas obrazów nerek i obrazów segmentacji (metoda z biblioteki nibabel)\n",
    "segmentation0 = segmentation0.get_fdata()\n",
    "\n",
    "volume1, segmentation1 = load_case(\"case_00001\")\n",
    "volume1 = volume1.get_fdata() \n",
    "segmentation1 = segmentation1.get_fdata()\n",
    "\n",
    "volume2, segmentation2 = load_case(\"case_00002\")\n",
    "volume2 = volume2.get_fdata() \n",
    "segmentation2 = segmentation2.get_fdata()\n",
    "\n",
    "volume3, segmentation3 = load_case(\"case_00003\")\n",
    "volume3 = volume3.get_fdata() \n",
    "segmentation3 = segmentation3.get_fdata()\n",
    "\n",
    "volume4, segmentation4 = load_case(\"case_00005\")\n",
    "volume4 = volume4.get_fdata() \n",
    "segmentation4 = segmentation4.get_fdata()\n",
    "\n",
    "#wektory obrazów do treningu\n",
    "volume = [volume0, volume1, volume2, volume3]\n",
    "segmentation = [segmentation0,segmentation1,segmentation2,segmentation3]"
   ]
  },
  {
   "cell_type": "code",
   "execution_count": null,
   "metadata": {},
   "outputs": [],
   "source": [
    "volume_shape = np.shape(volume0)\n",
    "segmentation_shape = np.shape(segmentation0)\n",
    "\n",
    "print(f\"shape of volume {volume_shape}\")# sprawdzenie ile slicow ma dany pacjent\n",
    "print(f\"shape of segmentation {segmentation_shape}\")"
   ]
  },
  {
   "cell_type": "code",
   "execution_count": null,
   "metadata": {},
   "outputs": [],
   "source": [
    "from starter_code.visualize import visualize\n",
    "#pobranie danych w .png w aby je podejrzeć\n",
    "visualize(\"case_00000\", \"case0\") "
   ]
  },
  {
   "cell_type": "code",
   "execution_count": null,
   "metadata": {},
   "outputs": [],
   "source": [
    "%cd \"E:\\top projekt\\kits19\\case0\" #należy ustawić ścieżke do katalogu w którym znajdują sie zdjęcia .png"
   ]
  },
  {
   "cell_type": "code",
   "execution_count": null,
   "metadata": {},
   "outputs": [],
   "source": [
    "#sprawdzenie czy obrazy są w skali szarości\n",
    "image = plt.imread(\"00000.png\")\n",
    "image_shape = np.shape(image)\n",
    "print(f\"image shape {image_shape}\")"
   ]
  },
  {
   "cell_type": "code",
   "execution_count": null,
   "metadata": {},
   "outputs": [],
   "source": [
    "#wyświetlenie obrazów CT\n",
    "for i in range(0,volume_shape[0],1):\n",
    "    plt.figure()\n",
    "    plt.imshow(volume[i],cmap='gray')"
   ]
  },
  {
   "cell_type": "code",
   "execution_count": null,
   "metadata": {},
   "outputs": [],
   "source": [
    "#wyświetlenie obrazów wysegmentowanych nerek i guzów \n",
    "for i in range(0,segmentation_shape[0],1):\n",
    "    plt.figure()\n",
    "    plt.imshow(segmentation[i],cmap='gray')"
   ]
  },
  {
   "cell_type": "markdown",
   "metadata": {},
   "source": [
    "# U-net"
   ]
  },
  {
   "cell_type": "code",
   "execution_count": null,
   "metadata": {},
   "outputs": [],
   "source": [
    "img_width = 512\n",
    "img_height = 512\n",
    "img_channels = 3\n",
    "\n",
    "train_x = np.zeros((len(volume),next(volume),img_height,img_width,img_channels),dtype=np.uint8) #trzeba rozwiązać problem wczytywnaia danych 3D do trenowania\n",
    "train_y = np.zeros((len(volume),img_height,img_width,1),dtype=np.bool)"
   ]
  },
  {
   "cell_type": "code",
   "execution_count": null,
   "metadata": {},
   "outputs": [],
   "source": [
    "#model\n",
    "inputs = tf.keras.layers.Input((img_width, img_height, img_channels))\n",
    "s=tf.keras.layers.Lambda(lambda x: x/255)(inputs)#normalizacja do wartości 0-1\n",
    "\n",
    "#down convoluting\n",
    "\n",
    "# c1 = tf.keras.layers.Conv2D(16,(3,3),activation='relu',kernel_initializer='he_normal',padding='same')(s)\n",
    "# c1 = tf.keras.layers.Dropout(0.1)(c1)\n",
    "# c1 = tf.keras.layers.Conv2D(16,(3,3),activation='relu',kernel_initializer='he_normal',padding='same')(c1)\n",
    "# p1 = tf.keras.layers.MaxPooling2D((2,2))(c1)\n",
    "\n",
    "# c2 = tf.keras.layers.Conv2D(32,(3,3),activation='relu',kernel_initializer='he_normal',padding='same')(p1)\n",
    "# c2 = tf.keras.layers.Dropout(0.1)(c2)\n",
    "# c2 = tf.keras.layers.Conv2D(32,(3,3),activation='relu',kernel_initializer='he_normal',padding='same')(c2)\n",
    "# p2 = tf.keras.layers.MaxPooling2D((2,2))(c2)\n",
    "\n",
    "c3 = tf.keras.layers.Conv2D(64,(3,3),activation='relu',kernel_initializer='he_normal',padding='same')(s)\n",
    "c3 = tf.keras.layers.Dropout(0.2)(c3)\n",
    "c3 = tf.keras.layers.Conv2D(64,(3,3),activation='relu',kernel_initializer='he_normal',padding='same')(c3)\n",
    "p3 = tf.keras.layers.MaxPooling2D((2,2))(c3)\n",
    "\n",
    "c4 = tf.keras.layers.Conv2D(128,(3,3),activation='relu',kernel_initializer='he_normal',padding='same')(p3)\n",
    "c4 = tf.keras.layers.Dropout(0.2)(c4)\n",
    "c4 = tf.keras.layers.Conv2D(128,(3,3),activation='relu',kernel_initializer='he_normal',padding='same')(c4)\n",
    "p4 = tf.keras.layers.MaxPooling2D((2,2))(c4)\n",
    "\n",
    "c5 = tf.keras.layers.Conv2D(256,(3,3),activation='relu',kernel_initializer='he_normal',padding='same')(p4)\n",
    "c5 = tf.keras.layers.Dropout(0.3)(c5)\n",
    "c5 = tf.keras.layers.Conv2D(256,(3,3),activation='relu',kernel_initializer='he_normal',padding='same')(c5)\n",
    "p5 = tf.keras.layers.MaxPooling2D((2,2))(c5)\n",
    "\n",
    "c6 = tf.keras.layers.Conv2D(512,(3,3),activation='relu',kernel_initializer='he_normal',padding='same')(p5)\n",
    "c6 = tf.keras.layers.Dropout(0.3)(c6)\n",
    "c6 = tf.keras.layers.Conv2D(512,(3,3),activation='relu',kernel_initializer='he_normal',padding='same')(c6)\n",
    "p6 = tf.keras.layers.MaxPooling2D((2,2))(c6)\n",
    "\n",
    "c7 = tf.keras.layers.Conv2D(1024,(3,3),activation='relu',kernel_initializer='he_normal',padding='same')(p6)\n",
    "c7 = tf.keras.layers.Dropout(0.4)(c7)\n",
    "c7 = tf.keras.layers.Conv2D(1024,(3,3),activation='relu',kernel_initializer='he_normal',padding='same')(c7)"
   ]
  },
  {
   "cell_type": "code",
   "execution_count": null,
   "metadata": {},
   "outputs": [],
   "source": [
    "#up convoluting\n",
    "\n",
    "u8 = tf.keras.layers.Conv2DTranspose(512,(2,2), strides=(2,2),padding='same')(c7)\n",
    "u8 = tf.keras.layers.concatenate([u8,c6])\n",
    "c8 = tf.keras.layers.Conv2D(512,(3,3),activation='relu',kernel_initializer='he_normal',padding='same')(u8)\n",
    "c8 = tf.keras.layers.Dropout(0.3)(c8)\n",
    "c8 = tf.keras.layers.Conv2D(512,(3,3),activation='relu',kernel_initializer='he_normal',padding='same')(c8)\n",
    "\n",
    "u9 = tf.keras.layers.Conv2DTranspose(256,(2,2), strides=(2,2),padding='same')(c8)\n",
    "u9 = tf.keras.layers.concatenate([u9,c5])\n",
    "c9 = tf.keras.layers.Conv2D(256,(3,3),activation='relu',kernel_initializer='he_normal',padding='same')(u9)\n",
    "c9 = tf.keras.layers.Dropout(0.3)(c9)\n",
    "c9 = tf.keras.layers.Conv2D(256,(3,3),activation='relu',kernel_initializer='he_normal',padding='same')(c9)\n",
    "\n",
    "u10 = tf.keras.layers.Conv2DTranspose(128,(2,2), strides=(2,2),padding='same')(c9)\n",
    "u10 = tf.keras.layers.concatenate([u10,c4])\n",
    "c10 = tf.keras.layers.Conv2D(128,(3,3),activation='relu',kernel_initializer='he_normal',padding='same')(u10)\n",
    "c10 = tf.keras.layers.Dropout(0.2)(c10)\n",
    "c10 = tf.keras.layers.Conv2D(128,(3,3),activation='relu',kernel_initializer='he_normal',padding='same')(c10)\n",
    "\n",
    "u11 = tf.keras.layers.Conv2DTranspose(64,(2,2), strides=(2,2),padding='same')(c10)\n",
    "u11 = tf.keras.layers.concatenate([u11,c3])\n",
    "c11 = tf.keras.layers.Conv2D(64,(3,3),activation='relu',kernel_initializer='he_normal',padding='same')(u11)\n",
    "c11 = tf.keras.layers.Dropout(0.2)(c11)\n",
    "c11 = tf.keras.layers.Conv2D(64,(3,3),activation='relu',kernel_initializer='he_normal',padding='same')(c11)\n",
    "\n",
    "# u12 = tf.keras.layers.Conv2DTranspose(32,(2,2), strides=(2,2),padding='same')(c11)\n",
    "# u12 = tf.keras.layers.concatenate([u12,c2])\n",
    "# c12 = tf.keras.layers.Conv2D(32,(3,3),activation='relu',kernel_initializer='he_normal',padding='same')(u12)\n",
    "# c12 = tf.keras.layers.Dropout(0.1)(c12)\n",
    "# c12 = tf.keras.layers.Conv2D(32,(3,3),activation='relu',kernel_initializer='he_normal',padding='same')(c12)\n",
    "\n",
    "# u13 = tf.keras.layers.Conv2DTranspose(16,(2,2), strides=(2,2),padding='same')(c12)\n",
    "# u13 = tf.keras.layers.concatenate([u13,c1])\n",
    "# c13 = tf.keras.layers.Conv2D(16,(3,3),activation='relu',kernel_initializer='he_normal',padding='same')(u13)\n",
    "# c13 = tf.keras.layers.Dropout(0.1)(c13)\n",
    "# c13 = tf.keras.layers.Conv2D(16,(3,3),activation='relu',kernel_initializer='he_normal',padding='same')(c13)"
   ]
  }
 ],
 "metadata": {
  "kernelspec": {
   "display_name": "Python 3",
   "language": "python",
   "name": "python3"
  },
  "language_info": {
   "codemirror_mode": {
    "name": "ipython",
    "version": 3
   },
   "file_extension": ".py",
   "mimetype": "text/x-python",
   "name": "python",
   "nbconvert_exporter": "python",
   "pygments_lexer": "ipython3",
   "version": "3.7.4"
  }
 },
 "nbformat": 4,
 "nbformat_minor": 2
}

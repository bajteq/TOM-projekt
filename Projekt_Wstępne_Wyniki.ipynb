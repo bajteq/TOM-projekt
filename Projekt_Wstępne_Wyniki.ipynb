{
 "cells": [
  {
   "cell_type": "code",
   "execution_count": 1,
   "metadata": {},
   "outputs": [],
   "source": [
    "#wizualizacja\n",
    "import numpy as np\n",
    "import nibabel as nb\n",
    "import matplotlib.pyplot as plt\n",
    "#siec\n",
    "import tensorflow as tf\n",
    "import os"
   ]
  },
  {
   "cell_type": "markdown",
   "metadata": {},
   "source": [
    "# Wizualizacja danych"
   ]
  },
  {
   "cell_type": "code",
   "execution_count": null,
   "metadata": {},
   "outputs": [],
   "source": [
    "#zmiana katalogu na katalog z danymi\n",
    "%cd \"E:\\top projekt\\kits19\" "
   ]
  },
  {
   "cell_type": "code",
   "execution_count": null,
   "metadata": {},
   "outputs": [],
   "source": [
    "from starter_code.utils import load_case\n",
    "#wczytywanie danych do trenowania(narazie tylko 5 pacjentów)\n",
    "volume0, segmentation0 = load_case(\"case_00000\")\n",
    "volume0 = volume0.get_fdata() #metoda do wyciągania tablicy danych - u nas obrazów nerek i obrazów segmentacji (metoda z biblioteki nibabel)\n",
    "segmentation0 = segmentation0.get_fdata()\n",
    "\n",
    "volume1, segmentation1 = load_case(\"case_00001\")\n",
    "volume1 = volume1.get_fdata() \n",
    "segmentation1 = segmentation1.get_fdata()\n",
    "\n",
    "volume2, segmentation2 = load_case(\"case_00002\")\n",
    "volume2 = volume2.get_fdata() \n",
    "segmentation2 = segmentation2.get_fdata()\n",
    "\n",
    "volume3, segmentation3 = load_case(\"case_00003\")\n",
    "volume3 = volume3.get_fdata() \n",
    "segmentation3 = segmentation3.get_fdata()\n",
    "\n",
    "volume4, segmentation4 = load_case(\"case_00005\")\n",
    "volume4 = volume4.get_fdata() \n",
    "segmentation4 = segmentation4.get_fdata()\n",
    "\n",
    "#wektory obrazów do treningu\n",
    "volume = [volume0, volume1, volume2, volume3]\n",
    "segmentation = [segmentation0,segmentation1,segmentation2,segmentation3]"
   ]
  },
  {
   "cell_type": "code",
   "execution_count": null,
   "metadata": {},
   "outputs": [],
   "source": [
    "volume_shape = np.shape(volume0)\n",
    "segmentation_shape = np.shape(segmentation0)\n",
    "\n",
    "print(f\"shape of volume {volume_shape}\")# sprawdzenie ile slicow ma dany pacjent\n",
    "print(f\"shape of segmentation {segmentation_shape}\")"
   ]
  },
  {
   "cell_type": "code",
   "execution_count": null,
   "metadata": {},
   "outputs": [],
   "source": [
    "from starter_code.visualize import visualize\n",
    "#pobranie danych w .png w aby je podejrzeć\n",
    "visualize(\"case_00000\", \"case0\") "
   ]
  },
  {
   "cell_type": "code",
   "execution_count": null,
   "metadata": {},
   "outputs": [],
   "source": [
    "%cd \"E:\\top projekt\\kits19\\case0\" #należy ustawić ścieżke do katalogu w którym znajdują sie zdjęcia .png"
   ]
  },
  {
   "cell_type": "code",
   "execution_count": null,
   "metadata": {},
   "outputs": [],
   "source": [
    "#sprawdzenie czy obrazy są w skali szarości\n",
    "image = plt.imread(\"00000.png\")\n",
    "image_shape = np.shape(image)\n",
    "print(f\"image shape {image_shape}\")"
   ]
  },
  {
   "cell_type": "code",
   "execution_count": null,
   "metadata": {},
   "outputs": [],
   "source": [
    "#wyświetlenie obrazów CT\n",
    "for i in range(0,volume_shape[0],1):\n",
    "    plt.figure()\n",
    "    plt.imshow(volume[i],cmap='gray')"
   ]
  },
  {
   "cell_type": "code",
   "execution_count": null,
   "metadata": {},
   "outputs": [],
   "source": [
    "#wyświetlenie obrazów wysegmentowanych nerek i guzów \n",
    "for i in range(0,segmentation_shape[0],1):\n",
    "    plt.figure()\n",
    "    plt.imshow(segmentation[i],cmap='gray')"
   ]
  }
 ],
 "metadata": {
  "kernelspec": {
   "display_name": "Python 3.7.7 64-bit ('newEnv': conda)",
   "language": "python",
   "name": "python37764bitnewenvconda8a4c2cd889734b838f4b4c38130bf240"
  },
  "language_info": {
   "codemirror_mode": {
    "name": "ipython",
    "version": 3
   },
   "file_extension": ".py",
   "mimetype": "text/x-python",
   "name": "python",
   "nbconvert_exporter": "python",
   "pygments_lexer": "ipython3",
   "version": "3.7.7"
  }
 },
 "nbformat": 4,
 "nbformat_minor": 2
}
